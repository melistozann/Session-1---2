{
  "nbformat": 4,
  "nbformat_minor": 0,
  "metadata": {
    "colab": {
      "provenance": [],
      "authorship_tag": "ABX9TyN8BeJqFMtyf50fw15sW+pA",
      "include_colab_link": true
    },
    "kernelspec": {
      "name": "python3",
      "display_name": "Python 3"
    },
    "language_info": {
      "name": "python"
    }
  },
  "cells": [
    {
      "cell_type": "markdown",
      "metadata": {
        "id": "view-in-github",
        "colab_type": "text"
      },
      "source": [
        "<a href=\"https://colab.research.google.com/github/melistozann/Session-1---2/blob/main/Session_1_2_.ipynb\" target=\"_parent\"><img src=\"https://colab.research.google.com/assets/colab-badge.svg\" alt=\"Open In Colab\"/></a>"
      ]
    },
    {
      "cell_type": "code",
      "execution_count": 4,
      "metadata": {
        "colab": {
          "base_uri": "https://localhost:8080/",
          "height": 109
        },
        "id": "b7LYOgDobrQm",
        "outputId": "2f7bbc9d-d61d-469a-e219-a3578f4771d9"
      },
      "outputs": [
        {
          "output_type": "error",
          "ename": "SyntaxError",
          "evalue": "invalid character '“' (U+201C) (<ipython-input-4-be31bfd6f1cc>, line 53)",
          "traceback": [
            "\u001b[0;36m  File \u001b[0;32m\"<ipython-input-4-be31bfd6f1cc>\"\u001b[0;36m, line \u001b[0;32m53\u001b[0m\n\u001b[0;31m    “””\u001b[0m\n\u001b[0m    ^\u001b[0m\n\u001b[0;31mSyntaxError\u001b[0m\u001b[0;31m:\u001b[0m invalid character '“' (U+201C)\n"
          ]
        }
      ],
      "source": [
        "#Use capital for word after class\n",
        "#Use capital for word after class\n",
        "class Point:\n",
        "    def __init__(self, x, y):\n",
        "        \"\"\"\n",
        "        Initialize a Point Object\n",
        "        :param x: the x position on the axis\n",
        "        :param y: the y position on the axis\n",
        "        \"\"\"\n",
        "\n",
        "        self.x = x #define x attribute via self.x\n",
        "        self.y = y #and assign value x to it\n",
        "\n",
        "    def __str__(self):\n",
        "        \"\"\"\n",
        "        Magic method that is called when we try to print an instance\n",
        "        :return\n",
        "        \"\"\"\n",
        "        return f\"x={self.x}, y={self.y}\"\n",
        "\n",
        "# now we need to instantiate it\n",
        "\n",
        "p = Point(1, 2) # p is an instance of 1 and 2\n",
        "p2 = Point(2, 3)\n",
        "p4 = Point(4.4, -55)\n",
        "print(f\"p.x={p.x} and p.y={p.y}\")\n",
        "print(f\"p4.x={p4.x} and p4.y={p4.y}\")\n",
        "p.x = 20\n",
        "print(f\"p.x={p.x} and p.y={p.y}\")\n",
        "\n",
        "\n",
        "# create a list of 5 random points\n",
        "import random\n",
        "points = []\n",
        "for i in range(5):\n",
        "    points.append(Point(random.randint(-10,10), random.randint(-10,10))) # y value\n",
        "print(\"I got these 5 random points:\")\n",
        "for p in points:\n",
        "    print(p)\n",
        "\n",
        "#p = ColorPoint(x=\"bob\", y=\"jane\", color=\"red\") # Error because you cant take the square value of BOB which is a string\n",
        "\n",
        "class ColorPoint(Point):\n",
        "    def __init__(self, x, y, color):\n",
        "        if not isinstance(x,(int,float)):\n",
        "            raise TypeError(\"x must be a number\")\n",
        "        if not isinstance(y,(int,float)):\n",
        "            raise TypeError(\"y must be a number\") #Instead of type error you can also put PointException and you will get the same answer.\n",
        "\n",
        "        super().__init__(x,y) #this replaces self.x and self.y\n",
        "        self.color = color\n",
        ":param y: the y position on the axis\n",
        "“””\n",
        "\n",
        "self.x = x #define x attribute via self.x\n",
        "self.y = y #and assign value x to it\n",
        "\n",
        "def__str__(self):\n",
        "“””\n",
        "Magic method that is called when we try to print an instance\n",
        ":return\n",
        "\n",
        "# now we need to instantiate it\n",
        "\n",
        "p = Point(x:1, y:2) # p is an instance of 1 and 2\n",
        "p2 = Point(x:2, y:3)\n",
        "p4 = Point(x:4.4, y:-55)\n",
        "print(f”p.x={p.x} and p.y={p.y}”)\n",
        "print(f”p4.x={p.x} and p.y={p.y}”)\n",
        "p.x = 20\n",
        "print(f”p.x={p.x} and p.y={p.y}”)\n",
        "\n",
        "\n",
        "# create a list of 5 random points\n",
        "points = []\n",
        "For i in range(5):\n",
        "points .append(Point(random.randint(-10,10) # x value\n",
        "random.randint(-10,10)) # y value\n",
        "print(“I got these 5 random points:”)\n",
        "for p in points\n",
        "print(p)\n",
        "\n",
        "p = ColorPoint(x: “bob”, y: “jane”, color: “red”) # Errror because you cant take the square value of BOB which is a string\n",
        "\n",
        "class ColorPoint(Point)\n",
        "Def init (self,x,y,color):\n",
        "if not isinstance(x,(int,float)):\n",
        "raise TypeError(“x must be a number”)\n",
        "if not isinstance(y,(int,float)):\n",
        "raise TypeError(“u must be a number”) #Instead of type error you can also put PointException and you will get the same answer.\n",
        "\n",
        "super().__int__(x,y) #this replqces self.x and self.y\n",
        "self.color = color\n"
      ]
    },
    {
      "cell_type": "markdown",
      "source": [
        "## Poker Game"
      ],
      "metadata": {
        "id": "1w8HByAscau6"
      }
    },
    {
      "cell_type": "code",
      "source": [
        "import random\n",
        "import random\n",
        "\n",
        "#Creating the class for the card, and making the deck\n",
        "\n",
        "class Card:\n",
        "    SUITS = [\"♣\", \"♦\", \"♥\", \"♠\"]\n",
        "    RANKS = [\"2\", \"3\", \"4\", \"5\", \"6\", \"7\", \"8\", \"9\", \"10\", \"J\", \"Q\", \"K\", \"A\"]\n",
        "\n",
        "    \"\"\"\n",
        "    Represents a playing card with a suit and rank.\n",
        "\n",
        "    Attributes:\n",
        "    suit (str): The suit of the card (e.g., 'Hearts').\n",
        "    rank (str): The rank of the card (e.g., 'A', '10', 'J').\n",
        "    \"\"\"\n",
        "\n",
        "    def __init__(self, suit, rank):\n",
        "        self._suit = suit\n",
        "        self._rank = rank\n",
        "\n",
        "    def __str__(self):\n",
        "        return self._rank + self._suit\n",
        "\n",
        "    def __repr__(self):\n",
        "        return self.__str__()\n",
        "\n",
        "\n",
        "class Deck:\n",
        "    def __init__(self):\n",
        "        self._deck = []\n",
        "        for suit in Card.SUITS:\n",
        "            for rank in Card.RANKS:\n",
        "                self._deck.append(Card(suit, rank))\n",
        "\n",
        "        \"\"\"\n",
        "    Represents a standard deck of 52 playing cards.\n",
        "\n",
        "    Methods:\n",
        "    shuffle(): Shuffles the deck randomly.\n",
        "    deal_hand(hand_size): Deals a hand of specified size (default is 5 cards).\n",
        "    \"\"\"\n",
        "\n",
        "    def __str__(self):\n",
        "        return str(self._deck)\n",
        "\n",
        "    def shuffle(self):\n",
        "        random.shuffle(self._deck)\n",
        "\n",
        "    def deal(self):\n",
        "        if len(self._deck) > 0:\n",
        "          return self._deck.pop(0)\n",
        "        else:\n",
        "          return None\n",
        "\n",
        "if __name__ == \"__main__\":\n",
        "    deck = Deck()\n",
        "    print(deck)\n",
        "    deck.shuffle()\n",
        "    print(deck)\n",
        "    print(deck.deal())\n",
        "    jack_clubs = Card(\"♠\", \"J\")\n",
        "    print(jack_clubs)\n",
        "    def __init__(self):\n",
        "        self._deck = []\n",
        "        for suit in Card.SUITS:\n",
        "            for rank in Card.RANKS:\n",
        "                self._deck.append(Card(suit, rank))\n",
        "\n",
        "    def __str__(self):\n",
        "        return str(self._deck)\n",
        "\n",
        "    def shuffle(self):\n",
        "        random.shuffle(self._deck)\n",
        "\n",
        "    def deal(self):\n",
        "        return self._deck.pop(0)\n",
        "\n",
        "if __name__ == \"__main__\":\n",
        "    deck = Deck()\n",
        "    print(deck)\n",
        "    deck.shuffle()\n",
        "    print(deck)\n",
        "    print(deck.deal())\n",
        "    jack_clubs = Card(\"♠\", \"J\")"
      ],
      "metadata": {
        "colab": {
          "base_uri": "https://localhost:8080/"
        },
        "id": "rKIXS4D5cd0S",
        "outputId": "d08d6ae7-962f-450f-b9f1-525d5ed810f4"
      },
      "execution_count": 15,
      "outputs": [
        {
          "output_type": "stream",
          "name": "stdout",
          "text": [
            "[2♣, 3♣, 4♣, 5♣, 6♣, 7♣, 8♣, 9♣, 10♣, J♣, Q♣, K♣, A♣, 2♦, 3♦, 4♦, 5♦, 6♦, 7♦, 8♦, 9♦, 10♦, J♦, Q♦, K♦, A♦, 2♥, 3♥, 4♥, 5♥, 6♥, 7♥, 8♥, 9♥, 10♥, J♥, Q♥, K♥, A♥, 2♠, 3♠, 4♠, 5♠, 6♠, 7♠, 8♠, 9♠, 10♠, J♠, Q♠, K♠, A♠]\n",
            "[5♦, 3♥, 5♣, 7♣, 3♦, K♣, Q♦, Q♠, 8♥, 9♥, A♣, 6♣, 2♥, J♦, 7♦, 3♣, A♠, 8♣, 8♠, 9♣, J♠, 10♥, 6♦, A♥, K♥, 4♦, 10♠, K♦, Q♣, J♣, Q♥, 5♥, J♥, 5♠, 6♥, 4♠, 8♦, 6♠, K♠, 7♥, 2♦, 10♣, 2♣, 9♠, 4♥, 4♣, 2♠, 9♦, 7♠, A♦, 3♠, 10♦]\n",
            "5♦\n",
            "J♠\n",
            "[2♣, 3♣, 4♣, 5♣, 6♣, 7♣, 8♣, 9♣, 10♣, J♣, Q♣, K♣, A♣, 2♦, 3♦, 4♦, 5♦, 6♦, 7♦, 8♦, 9♦, 10♦, J♦, Q♦, K♦, A♦, 2♥, 3♥, 4♥, 5♥, 6♥, 7♥, 8♥, 9♥, 10♥, J♥, Q♥, K♥, A♥, 2♠, 3♠, 4♠, 5♠, 6♠, 7♠, 8♠, 9♠, 10♠, J♠, Q♠, K♠, A♠]\n",
            "[2♣, 10♣, 6♠, 9♥, 5♥, 9♠, K♠, 9♣, 4♠, 6♦, A♥, 3♠, 8♦, A♠, 9♦, Q♦, 5♣, 4♦, J♦, 8♠, 10♦, J♣, 4♥, 7♠, A♣, 2♠, K♦, 4♣, 6♥, 7♦, K♥, 5♦, 7♥, 3♥, 3♦, 6♣, 10♥, 8♥, 7♣, 2♥, J♥, A♦, J♠, 8♣, 10♠, Q♣, Q♥, 2♦, 5♠, Q♠, 3♣, K♣]\n",
            "2♣\n"
          ]
        }
      ]
    },
    {
      "cell_type": "code",
      "source": [
        "import random\n",
        "\n",
        "#This is the fix that Gemini suggested\n",
        "\n",
        "class Card:\n",
        "    SUITS = [\"♣\", \"♦\", \"♥\", \"♠\"]\n",
        "    RANKS = [\"2\", \"3\", \"4\", \"5\", \"6\", \"7\", \"8\", \"9\", \"10\", \"J\", \"Q\", \"K\", \"A\"]\n",
        "\n",
        "    def __init__(self, suit, rank):\n",
        "        self._suit = suit\n",
        "        self._rank = rank\n",
        "\n",
        "    def __str__(self):\n",
        "        return self._rank + self._suit\n",
        "\n",
        "    def __repr__(self):\n",
        "        return self.__str__()\n",
        "\n",
        "\n",
        "class Deck:\n",
        "    def __init__(self):\n",
        "        self._deck = []\n",
        "        for suit in Card.SUITS:\n",
        "            for rank in Card.RANKS:\n",
        "                self._deck.append(Card(suit, rank))\n",
        "\n",
        "    def __str__(self):\n",
        "        return str(self._deck)\n",
        "\n",
        "    def shuffle(self):\n",
        "        random.shuffle(self._deck)\n",
        "\n",
        "    def deal(self):\n",
        "        if len(self._deck) > 0:\n",
        "            return self._deck.pop(0)\n",
        "        else:\n",
        "            return None"
      ],
      "metadata": {
        "id": "9lbXbBqnd-VC"
      },
      "execution_count": 12,
      "outputs": []
    },
    {
      "cell_type": "code",
      "source": [
        "from deck import Deck, Card\n",
        "\n",
        "class PokerHand:\n",
        "    def __init__(self, deck):\n",
        "\n",
        "        cards = []\n",
        "        for i in range(5):\n",
        "            cards.append(deck.deal())\n",
        "        self._cards = cards\n",
        "\n",
        "    @property\n",
        "    def cards(self):\n",
        "        return self._cards\n",
        "\n",
        "    def __str__(self):\n",
        "        return str(self.cards)\n",
        "\n",
        "    @property\n",
        "    def is_flush(self):\n",
        "        for card in self.cards[1:]:\n",
        "            if self.cards[0].suit != card.suit:\n",
        "                return False\n",
        "        return True\n",
        "\n",
        "count = 0\n",
        "flushes = 0\n",
        "while flushes < 100:\n",
        "    deck = Deck()\n",
        "    deck.shuffle()\n",
        "    hand = PokerHand(deck)\n",
        "    if hand.is_flush:\n",
        "        flushes += 1\n",
        "    count += 1\n",
        "\n",
        "print(f\"probability of a flush is {100*(flushes/count)}%\")"
      ],
      "metadata": {
        "colab": {
          "base_uri": "https://localhost:8080/",
          "height": 397
        },
        "id": "BpEOZcwydavV",
        "outputId": "8b027b6c-9fb6-4130-9556-0ee3fad73ceb"
      },
      "execution_count": 13,
      "outputs": [
        {
          "output_type": "error",
          "ename": "ModuleNotFoundError",
          "evalue": "No module named 'deck'",
          "traceback": [
            "\u001b[0;31m---------------------------------------------------------------------------\u001b[0m",
            "\u001b[0;31mModuleNotFoundError\u001b[0m                       Traceback (most recent call last)",
            "\u001b[0;32m<ipython-input-13-3f0f3c260e0f>\u001b[0m in \u001b[0;36m<cell line: 0>\u001b[0;34m()\u001b[0m\n\u001b[0;32m----> 1\u001b[0;31m \u001b[0;32mfrom\u001b[0m \u001b[0mdeck\u001b[0m \u001b[0;32mimport\u001b[0m \u001b[0mDeck\u001b[0m\u001b[0;34m,\u001b[0m \u001b[0mCard\u001b[0m\u001b[0;34m\u001b[0m\u001b[0;34m\u001b[0m\u001b[0m\n\u001b[0m\u001b[1;32m      2\u001b[0m \u001b[0;34m\u001b[0m\u001b[0m\n\u001b[1;32m      3\u001b[0m \u001b[0;32mclass\u001b[0m \u001b[0mPokerHand\u001b[0m\u001b[0;34m:\u001b[0m\u001b[0;34m\u001b[0m\u001b[0;34m\u001b[0m\u001b[0m\n\u001b[1;32m      4\u001b[0m     \u001b[0;32mdef\u001b[0m \u001b[0m__init__\u001b[0m\u001b[0;34m(\u001b[0m\u001b[0mself\u001b[0m\u001b[0;34m,\u001b[0m \u001b[0mdeck\u001b[0m\u001b[0;34m)\u001b[0m\u001b[0;34m:\u001b[0m\u001b[0;34m\u001b[0m\u001b[0;34m\u001b[0m\u001b[0m\n\u001b[1;32m      5\u001b[0m \u001b[0;34m\u001b[0m\u001b[0m\n",
            "\u001b[0;31mModuleNotFoundError\u001b[0m: No module named 'deck'",
            "",
            "\u001b[0;31m---------------------------------------------------------------------------\u001b[0;32m\nNOTE: If your import is failing due to a missing package, you can\nmanually install dependencies using either !pip or !apt.\n\nTo view examples of installing some common dependencies, click the\n\"Open Examples\" button below.\n\u001b[0;31m---------------------------------------------------------------------------\u001b[0m\n"
          ],
          "errorDetails": {
            "actions": [
              {
                "action": "open_url",
                "actionText": "Open Examples",
                "url": "/notebooks/snippets/importing_libraries.ipynb"
              }
            ]
          }
        }
      ]
    }
  ]
}